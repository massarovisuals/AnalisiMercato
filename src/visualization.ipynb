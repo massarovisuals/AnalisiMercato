{
 "cells": [
  {
   "cell_type": "code",
   "execution_count": null,
   "metadata": {},
   "outputs": [],
   "source": [
    "import matplotlib.pyplot as plt\n",
    "import seaborn as sns"
   ]
  },
  {
   "cell_type": "code",
   "execution_count": null,
   "metadata": {},
   "outputs": [],
   "source": [
    "def plot_returns_distribution(df, title):\n",
    "    \"\"\"\n",
    "    Plot the distribution of daily returns for an index.\n",
    "\n",
    "    Args:\n",
    "        df (pandas.DataFrame): DataFrame containing 'Daily_Return' column.\n",
    "        title (str): Title for the plot.\n",
    "\n",
    "    Raises:\n",
    "        Exception: If there's an error during the plotting process.\n",
    "    \"\"\"\n",
    "    try:\n",
    "        plt.figure(figsize=(10, 6))\n",
    "        sns.histplot(df['Daily_Return'], kde=True)\n",
    "        plt.title(f'{title} - Distribution of Daily Returns')\n",
    "        plt.xlabel('Daily Return')\n",
    "        plt.ylabel('Frequency')\n",
    "        plt.show()\n",
    "        print(f\"Returns distribution plot created for {title}\")\n",
    "    except Exception as e:\n",
    "        print(f\"Error plotting returns distribution for {title}: {str(e)}\")\n",
    "        raise"
   ]
  },
  {
   "cell_type": "code",
   "execution_count": null,
   "metadata": {},
   "outputs": [],
   "source": [
    "def plot_cumulative_returns(df1, df2, name1, name2):\n",
    "    \"\"\"\n",
    "    Plot cumulative returns for two indices.\n",
    "\n",
    "    Args:\n",
    "        df1 (pandas.DataFrame): DataFrame for the first index with 'Daily_Return' column.\n",
    "        df2 (pandas.DataFrame): DataFrame for the second index with 'Daily_Return' column.\n",
    "        name1 (str): Name of the first index.\n",
    "        name2 (str): Name of the second index.\n",
    "\n",
    "    Raises:\n",
    "        Exception: If there's an error during the plotting process.\n",
    "    \"\"\"\n",
    "    try:\n",
    "        cum_returns1 = (1 + df1['Daily_Return']).cumprod()\n",
    "        cum_returns2 = (1 + df2['Daily_Return']).cumprod()\n",
    "        plt.figure(figsize=(12, 6))\n",
    "        plt.plot(cum_returns1.index, cum_returns1, label=name1)\n",
    "        plt.plot(cum_returns2.index, cum_returns2, label=name2)\n",
    "        plt.title('Cumulative Returns Comparison')\n",
    "        plt.xlabel('Date')\n",
    "        plt.ylabel('Cumulative Return')\n",
    "        plt.legend()\n",
    "        plt.show()\n",
    "        print(\"Cumulative returns plot created\")\n",
    "    except Exception as e:\n",
    "        print(f\"Error plotting cumulative returns: {str(e)}\")\n",
    "        raise"
   ]
  },
  {
   "cell_type": "code",
   "execution_count": null,
   "metadata": {},
   "outputs": [],
   "source": [
    "def plot_correlation_heatmap(df1, df2, name1, name2):\n",
    "    \"\"\"\n",
    "    Plot a correlation heatmap for the daily returns of two indices.\n",
    "\n",
    "    Args:\n",
    "        df1 (pandas.DataFrame): DataFrame for the first index with 'Daily_Return' column.\n",
    "        df2 (pandas.DataFrame): DataFrame for the second index with 'Daily_Return' column.\n",
    "        name1 (str): Name of the first index.\n",
    "        name2 (str): Name of the second index.\n",
    "\n",
    "    Raises:\n",
    "        Exception: If there's an error during the plotting process.\n",
    "    \"\"\"\n",
    "    try:\n",
    "        aligned_data = pd.concat([df1['Daily_Return'], df2['Daily_Return']], axis=1, join='inner')\n",
    "        aligned_data.columns = [name1, name2]\n",
    "        plt.figure(figsize=(8, 6))\n",
    "        sns.heatmap(aligned_data.corr(), annot=True, cmap='coolwarm', vmin=-1, vmax=1, center=0)\n",
    "        plt.title('Correlation Heatmap of Daily Returns')\n",
    "        plt.show()\n",
    "        print(\"Correlation heatmap created\")\n",
    "    except Exception as e:\n",
    "        print(f\"Error plotting correlation heatmap: {str(e)}\")\n",
    "        raise"
   ]
  },
  {
   "cell_type": "code",
   "execution_count": null,
   "metadata": {},
   "outputs": [],
   "source": [
    "def plot_performance_comparison(comparison_df):\n",
    "    \"\"\"\n",
    "    Plot a bar chart comparing key performance metrics of two indices.\n",
    "\n",
    "    Args:\n",
    "        comparison_df (pandas.DataFrame): DataFrame containing comparison metrics.\n",
    "\n",
    "    Raises:\n",
    "        Exception: If there's an error during the plotting process.\n",
    "    \"\"\"\n",
    "    try:\n",
    "        metrics_to_plot = ['avg_annual_return', 'annual_volatility', 'annual_sharpe_ratio']\n",
    "        plt.figure(figsize=(12, 6))\n",
    "        comparison_df.loc[metrics_to_plot].plot(kind='bar')\n",
    "        plt.title('Performance Comparison')\n",
    "        plt.xlabel('Metric')\n",
    "        plt.ylabel('Value')\n",
    "        plt.legend(title='Index')\n",
    "        plt.xticks(rotation=45)\n",
    "        plt.tight_layout()\n",
    "        plt.show()\n",
    "        print(\"Performance comparison plot created\")\n",
    "    except Exception as e:\n",
    "        print(f\"Error plotting performance comparison: {str(e)}\")\n",
    "        raise"
   ]
  }
 ],
 "metadata": {
  "kernelspec": {
   "display_name": "Python 3",
   "language": "python",
   "name": "python3"
  },
  "language_info": {
   "codemirror_mode": {
    "name": "ipython",
    "version": 3
   },
   "file_extension": ".py",
   "mimetype": "text/x-python",
   "name": "python",
   "nbconvert_exporter": "python",
   "pygments_lexer": "ipython3",
   "version": "3.11.9"
  }
 },
 "nbformat": 4,
 "nbformat_minor": 2
}
