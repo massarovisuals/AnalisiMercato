{
 "cells": [
  {
   "cell_type": "code",
   "execution_count": null,
   "metadata": {},
   "outputs": [],
   "source": [
    "import pandas as pd\n",
    "import numpy as np"
   ]
  },
  {
   "cell_type": "code",
   "execution_count": null,
   "metadata": {},
   "outputs": [],
   "source": [
    "def analyze_index_performance(df):\n",
    "    \"\"\"\n",
    "    Perform a comprehensive analysis of index performance.\n",
    "\n",
    "    This function calculates various performance metrics including average returns,\n",
    "    volatility, Sharpe ratios, and identifies best and worst performing days.\n",
    "\n",
    "    Args:\n",
    "        df (pandas.DataFrame): DataFrame containing 'Daily_Return', 'Monthly_Return',\n",
    "                               and 'Annual_Return' columns.\n",
    "\n",
    "    Returns:\n",
    "        dict: A dictionary containing various performance metrics.\n",
    "\n",
    "    Raises:\n",
    "        Exception: If there's an error during the analysis process.\n",
    "    \"\"\"\n",
    "    try:\n",
    "        analysis_results = {}\n",
    "        analysis_results['avg_daily_return'] = df['Daily_Return'].mean()\n",
    "        analysis_results['avg_monthly_return'] = df['Monthly_Return'].mean()\n",
    "        analysis_results['avg_annual_return'] = df['Annual_Return'].mean()\n",
    "        analysis_results['daily_volatility'] = df['Daily_Return'].std()\n",
    "        analysis_results['monthly_volatility'] = df['Monthly_Return'].std()\n",
    "        analysis_results['annual_volatility'] = df['Annual_Return'].std()\n",
    "        analysis_results['daily_sharpe_ratio'] = analysis_results['avg_daily_return'] / analysis_results['daily_volatility']\n",
    "        analysis_results['monthly_sharpe_ratio'] = analysis_results['avg_monthly_return'] / analysis_results['monthly_volatility']\n",
    "        analysis_results['annual_sharpe_ratio'] = analysis_results['avg_annual_return'] / analysis_results['annual_volatility']\n",
    "        analysis_results['best_day'] = df['Daily_Return'].idxmax()\n",
    "        analysis_results['worst_day'] = df['Daily_Return'].idxmin()\n",
    "        analysis_results['cumulative_return'] = (1 + df['Daily_Return']).cumprod().iloc[-1] - 1\n",
    "        return analysis_results\n",
    "    except Exception as e:\n",
    "        print(f\"Error in analyze_index_performance: {str(e)}\")\n",
    "        raise"
   ]
  },
  {
   "cell_type": "code",
   "execution_count": null,
   "metadata": {},
   "outputs": [],
   "source": [
    "def compare_indices(df1, df2, name1, name2):\n",
    "    \"\"\"\n",
    "    Compare the performance of two indices.\n",
    "\n",
    "    This function analyzes and compares the performance of two indices.\n",
    "\n",
    "    Args:\n",
    "        df1 (pandas.DataFrame): DataFrame for the first index.\n",
    "        df2 (pandas.DataFrame): DataFrame for the second index.\n",
    "        name1 (str): Name of the first index.\n",
    "        name2 (str): Name of the second index.\n",
    "\n",
    "    Returns:\n",
    "        pandas.DataFrame: A DataFrame containing performance metrics for both indices.\n",
    "\n",
    "    Raises:\n",
    "        Exception: If there's an error during the comparison process.\n",
    "    \"\"\"\n",
    "    try:\n",
    "        results1 = analyze_index_performance(df1)\n",
    "        results2 = analyze_index_performance(df2)\n",
    "        comparison = pd.DataFrame({name1: results1, name2: results2})\n",
    "        return comparison\n",
    "    except Exception as e:\n",
    "        print(f\"Error in compare_indices: {str(e)}\")\n",
    "        raise"
   ]
  },
  {
   "cell_type": "code",
   "execution_count": null,
   "metadata": {},
   "outputs": [],
   "source": [
    "def correlation_analysis(df1, df2):\n",
    "    \"\"\"\n",
    "    Perform correlation analysis between two indices.\n",
    "\n",
    "    This function calculates the correlation coefficient between the daily returns\n",
    "    of two indices.\n",
    "\n",
    "    Args:\n",
    "        df1 (pandas.DataFrame): DataFrame for the first index with 'Daily_Return' column.\n",
    "        df2 (pandas.DataFrame): DataFrame for the second index with 'Daily_Return' column.\n",
    "\n",
    "    Returns:\n",
    "        float: Correlation coefficient between the daily returns of the two indices.\n",
    "\n",
    "    Raises:\n",
    "        Exception: If there's an error during the correlation analysis.\n",
    "    \"\"\"\n",
    "    try:\n",
    "        aligned_data = pd.concat([df1['Daily_Return'], df2['Daily_Return']], axis=1, join='inner')\n",
    "        correlation = aligned_data.corr().iloc[0, 1]\n",
    "        return correlation\n",
    "    except Exception as e:\n",
    "        print(f\"Error in correlation_analysis: {str(e)}\")\n",
    "        raise"
   ]
  }
 ],
 "metadata": {
  "kernelspec": {
   "display_name": "Python 3",
   "language": "python",
   "name": "python3"
  },
  "language_info": {
   "codemirror_mode": {
    "name": "ipython",
    "version": 3
   },
   "file_extension": ".py",
   "mimetype": "text/x-python",
   "name": "python",
   "nbconvert_exporter": "python",
   "pygments_lexer": "ipython3",
   "version": "3.11.9"
  }
 },
 "nbformat": 4,
 "nbformat_minor": 2
}
