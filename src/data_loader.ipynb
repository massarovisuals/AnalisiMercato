{
 "cells": [
  {
   "cell_type": "code",
   "execution_count": null,
   "metadata": {},
   "outputs": [],
   "source": [
    "import pandas as pd\n",
    "import numpy as np"
   ]
  },
  {
   "cell_type": "code",
   "execution_count": null,
   "metadata": {},
   "outputs": [],
   "source": [
    "def load_data(file_path):\n",
    "    \"\"\"\n",
    "    Load and preprocess data from a CSV file.\n",
    "\n",
    "    This function reads a CSV file, sets the 'Date' column as the index,\n",
    "    sorts the data by date, and calculates daily returns.\n",
    "\n",
    "    Args:\n",
    "        file_path (str): Path to the CSV file containing the data.\n",
    "\n",
    "    Returns:\n",
    "        pandas.DataFrame: Preprocessed dataframe with datetime index and daily returns.\n",
    "\n",
    "    Raises:\n",
    "        FileNotFoundError: If the specified file is not found.\n",
    "        Exception: For any other errors during data loading or processing.\n",
    "    \"\"\"\n",
    "    try:\n",
    "        df = pd.read_csv(file_path)\n",
    "        df['Date'] = pd.to_datetime(df['Date'])\n",
    "        df.set_index('Date', inplace=True)\n",
    "        df.sort_index(inplace=True)\n",
    "        df['Daily_Return'] = df['Close'].pct_change()\n",
    "        print(f\"Data loaded successfully from {file_path}\")\n",
    "        return df\n",
    "    except FileNotFoundError:\n",
    "        print(f\"Error: File not found at {file_path}\")\n",
    "        raise\n",
    "    except Exception as e:\n",
    "        print(f\"Error loading data from {file_path}: {str(e)}\")\n",
    "        raise\n"
   ]
  },
  {
   "cell_type": "code",
   "execution_count": null,
   "metadata": {},
   "outputs": [],
   "source": [
    "def load_both_indices():\n",
    "    \"\"\"\n",
    "    Load data for both S&P 500 and EURO STOXX 50 indices.\n",
    "\n",
    "    This function calls load_data() twice to load data for both indices.\n",
    "\n",
    "    Returns:\n",
    "        tuple: Two pandas DataFrames, (sp500, euro50)\n",
    "\n",
    "    Raises:\n",
    "        Exception: If there's an error loading either of the indices.\n",
    "    \"\"\"\n",
    "    try:\n",
    "        sp500 = load_data('data/sp500.csv')\n",
    "        euro50 = load_data('data/euro50.csv')\n",
    "        return sp500, euro50\n",
    "    except Exception as e:\n",
    "        print(f\"Error loading indices: {str(e)}\")\n",
    "        raise"
   ]
  }
 ],
 "metadata": {
  "kernelspec": {
   "display_name": "Python 3",
   "language": "python",
   "name": "python3"
  },
  "language_info": {
   "codemirror_mode": {
    "name": "ipython",
    "version": 3
   },
   "file_extension": ".py",
   "mimetype": "text/x-python",
   "name": "python",
   "nbconvert_exporter": "python",
   "pygments_lexer": "ipython3",
   "version": "3.11.9"
  }
 },
 "nbformat": 4,
 "nbformat_minor": 2
}
