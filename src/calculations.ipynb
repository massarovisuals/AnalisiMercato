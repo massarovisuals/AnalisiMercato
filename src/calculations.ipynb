{
 "cells": [
  {
   "cell_type": "code",
   "execution_count": null,
   "metadata": {},
   "outputs": [],
   "source": [
    "import pandas as pd\n",
    "import numpy as np"
   ]
  },
  {
   "cell_type": "code",
   "execution_count": null,
   "metadata": {},
   "outputs": [],
   "source": [
    "def calculate_returns(df):\n",
    "    \"\"\"\n",
    "    Calculate monthly and annual returns for the given dataframe.\n",
    "\n",
    "    Args:\n",
    "        df (pandas.DataFrame): DataFrame containing 'Close' prices and 'Daily_Return'.\n",
    "\n",
    "    Returns:\n",
    "        pandas.DataFrame: DataFrame with added 'Monthly_Return' and 'Annual_Return' columns.\n",
    "\n",
    "    Raises:\n",
    "        Exception: If there's an error during the calculation process.\n",
    "    \"\"\"\n",
    "    try:\n",
    "        df['Monthly_Return'] = df['Close'].pct_change(20)\n",
    "        df['Annual_Return'] = df['Close'].pct_change(252)\n",
    "        print(\"Returns calculated successfully\")\n",
    "        return df\n",
    "    except Exception as e:\n",
    "        print(f\"Error calculating returns: {str(e)}\")\n",
    "        raise"
   ]
  },
  {
   "cell_type": "code",
   "execution_count": null,
   "metadata": {},
   "outputs": [],
   "source": [
    "def average_daily_return_by_weekday(df):\n",
    "    \"\"\"\n",
    "    Calculate the average daily return for each weekday.\n",
    "\n",
    "    Args:\n",
    "        df (pandas.DataFrame): DataFrame containing 'Daily_Return' column.\n",
    "\n",
    "    Returns:\n",
    "        pandas.Series: Average daily returns indexed by weekday (0-4, where 0 is Monday).\n",
    "\n",
    "    Raises:\n",
    "        Exception: If there's an error during the calculation process.\n",
    "    \"\"\"\n",
    "    try:\n",
    "        return df.groupby(df.index.dayofweek)['Daily_Return'].mean()\n",
    "    except Exception as e:\n",
    "        print(f\"Error calculating average daily return by weekday: {str(e)}\")\n",
    "        raise"
   ]
  },
  {
   "cell_type": "code",
   "execution_count": null,
   "metadata": {},
   "outputs": [],
   "source": [
    "def extreme_return_days(df):\n",
    "    \"\"\"\n",
    "    Find the days with the highest and lowest returns.\n",
    "\n",
    "    Args:\n",
    "        df (pandas.DataFrame): DataFrame containing 'Daily_Return' column.\n",
    "\n",
    "    Returns:\n",
    "        tuple: Two datetime.date objects (max_return_day, min_return_day)\n",
    "\n",
    "    Raises:\n",
    "        Exception: If there's an error during the calculation process.\n",
    "    \"\"\"\n",
    "    try:\n",
    "        max_return_day = df['Daily_Return'].idxmax()\n",
    "        min_return_day = df['Daily_Return'].idxmin()\n",
    "        return max_return_day, min_return_day\n",
    "    except Exception as e:\n",
    "        print(f\"Error finding extreme return days: {str(e)}\")\n",
    "        raise\n"
   ]
  },
  {
   "cell_type": "code",
   "execution_count": null,
   "metadata": {},
   "outputs": [],
   "source": [
    "def average_daily_volume(df):\n",
    "    \"\"\"\n",
    "    Calculate the average daily trading volume.\n",
    "\n",
    "    Args:\n",
    "        df (pandas.DataFrame): DataFrame containing 'Volume' column.\n",
    "\n",
    "    Returns:\n",
    "        float: Average daily trading volume.\n",
    "\n",
    "    Raises:\n",
    "        Exception: If there's an error during the calculation process.\n",
    "    \"\"\"\n",
    "    try:\n",
    "        return df['Volume'].mean()\n",
    "    except Exception as e:\n",
    "        print(f\"Error calculating average daily volume: {str(e)}\")\n",
    "        raise"
   ]
  }
 ],
 "metadata": {
  "kernelspec": {
   "display_name": "Python 3",
   "language": "python",
   "name": "python3"
  },
  "language_info": {
   "codemirror_mode": {
    "name": "ipython",
    "version": 3
   },
   "file_extension": ".py",
   "mimetype": "text/x-python",
   "name": "python",
   "nbconvert_exporter": "python",
   "pygments_lexer": "ipython3",
   "version": "3.11.9"
  }
 },
 "nbformat": 4,
 "nbformat_minor": 2
}
