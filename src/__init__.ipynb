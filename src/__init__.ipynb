{
 "cells": [
  {
   "cell_type": "code",
   "execution_count": 1,
   "metadata": {},
   "outputs": [
    {
     "ename": "ImportError",
     "evalue": "attempted relative import with no known parent package",
     "output_type": "error",
     "traceback": [
      "\u001b[1;31m---------------------------------------------------------------------------\u001b[0m",
      "\u001b[1;31mImportError\u001b[0m                               Traceback (most recent call last)",
      "Cell \u001b[1;32mIn[1], line 1\u001b[0m\n\u001b[1;32m----> 1\u001b[0m \u001b[38;5;28;01mfrom\u001b[39;00m \u001b[38;5;21;01m.\u001b[39;00m\u001b[38;5;21;01mdata_loader\u001b[39;00m \u001b[38;5;28;01mimport\u001b[39;00m load_data, load_both_indices\n\u001b[0;32m      2\u001b[0m \u001b[38;5;28;01mfrom\u001b[39;00m \u001b[38;5;21;01m.\u001b[39;00m\u001b[38;5;21;01mcalculations\u001b[39;00m \u001b[38;5;28;01mimport\u001b[39;00m (\n\u001b[0;32m      3\u001b[0m     calculate_returns,\n\u001b[0;32m      4\u001b[0m     average_daily_return_by_weekday,\n\u001b[0;32m      5\u001b[0m     extreme_return_days,\n\u001b[0;32m      6\u001b[0m     average_daily_volume\n\u001b[0;32m      7\u001b[0m )\n\u001b[0;32m      8\u001b[0m \u001b[38;5;28;01mfrom\u001b[39;00m \u001b[38;5;21;01m.\u001b[39;00m\u001b[38;5;21;01manalysis\u001b[39;00m \u001b[38;5;28;01mimport\u001b[39;00m analyze_index_performance, compare_indices, correlation_analysis\n",
      "\u001b[1;31mImportError\u001b[0m: attempted relative import with no known parent package"
     ]
    }
   ],
   "source": [
    "from .data_loader import load_data, load_both_indices\n",
    "from .calculations import (\n",
    "    calculate_returns,\n",
    "    average_daily_return_by_weekday,\n",
    "    extreme_return_days,\n",
    "    average_daily_volume\n",
    ")\n",
    "from .analysis import analyze_index_performance, compare_indices, correlation_analysis\n",
    "from .visualization import (\n",
    "    plot_returns_distribution,\n",
    "    plot_cumulative_returns,\n",
    "    plot_correlation_heatmap,\n",
    "    plot_performance_comparison\n",
    ")"
   ]
  },
  {
   "cell_type": "code",
   "execution_count": null,
   "metadata": {},
   "outputs": [],
   "source": [
    "__all__ = [\n",
    "    'load_data',\n",
    "    'load_both_indices',\n",
    "    'calculate_returns',\n",
    "    'average_daily_return_by_weekday',\n",
    "    'extreme_return_days',\n",
    "    'average_daily_volume',\n",
    "    'analyze_index_performance',\n",
    "    'compare_indices',\n",
    "    'correlation_analysis',\n",
    "    'plot_returns_distribution',\n",
    "    'plot_cumulative_returns',\n",
    "    'plot_correlation_heatmap',\n",
    "    'plot_performance_comparison'\n",
    "]"
   ]
  }
 ],
 "metadata": {
  "kernelspec": {
   "display_name": "Python 3",
   "language": "python",
   "name": "python3"
  },
  "language_info": {
   "codemirror_mode": {
    "name": "ipython",
    "version": 3
   },
   "file_extension": ".py",
   "mimetype": "text/x-python",
   "name": "python",
   "nbconvert_exporter": "python",
   "pygments_lexer": "ipython3",
   "version": "3.11.9"
  }
 },
 "nbformat": 4,
 "nbformat_minor": 2
}
